{
 "metadata": {
  "language_info": {
   "codemirror_mode": {
    "name": "ipython",
    "version": 3
   },
   "file_extension": ".py",
   "mimetype": "text/x-python",
   "name": "python",
   "nbconvert_exporter": "python",
   "pygments_lexer": "ipython3",
   "version": "3.7.6-final"
  },
  "orig_nbformat": 2,
  "kernelspec": {
   "name": "python3",
   "display_name": "Python 3",
   "language": "python"
  }
 },
 "nbformat": 4,
 "nbformat_minor": 2,
 "cells": [
  {
   "source": [
    "https://www.datacamp.com/community/tutorials/python-xml-elementtree"
   ],
   "cell_type": "markdown",
   "metadata": {}
  },
  {
   "cell_type": "code",
   "execution_count": 1,
   "metadata": {},
   "outputs": [],
   "source": [
    "import xml.etree.ElementTree as ET\n",
    "tree = ET.parse('test.xml')"
   ]
  },
  {
   "cell_type": "code",
   "execution_count": 6,
   "metadata": {},
   "outputs": [
    {
     "output_type": "execute_result",
     "data": {
      "text/plain": [
       "'ArrayOfDualShockState'"
      ]
     },
     "metadata": {},
     "execution_count": 6
    }
   ],
   "source": [
    "root = tree.getroot()\n",
    "root.tag"
   ]
  },
  {
   "cell_type": "code",
   "execution_count": 7,
   "metadata": {},
   "outputs": [
    {
     "output_type": "execute_result",
     "data": {
      "text/plain": [
       "{}"
      ]
     },
     "metadata": {},
     "execution_count": 7
    }
   ],
   "source": [
    "root.attrib"
   ]
  },
  {
   "cell_type": "code",
   "execution_count": 14,
   "metadata": {
    "tags": []
   },
   "outputs": [
    {
     "output_type": "execute_result",
     "data": {
      "text/plain": [
       "3011"
      ]
     },
     "metadata": {},
     "execution_count": 14
    }
   ],
   "source": [
    "states = [child for child in root]\n",
    "len(states)"
   ]
  },
  {
   "cell_type": "code",
   "execution_count": 27,
   "metadata": {},
   "outputs": [],
   "source": [
    "rows = []\n",
    "for i in states:\n",
    "    state_i = i.getchildren()\n",
    "    rows.append([j.text for j in state_i])"
   ]
  },
  {
   "cell_type": "code",
   "execution_count": 18,
   "metadata": {},
   "outputs": [],
   "source": [
    "state0 = states[0].getchildren()"
   ]
  },
  {
   "cell_type": "code",
   "execution_count": 21,
   "metadata": {},
   "outputs": [
    {
     "output_type": "execute_result",
     "data": {
      "text/plain": [
       "[<Element 'ReportTimeStamp' at 0x0000029A7636AAE8>,\n",
       " <Element 'LX' at 0x0000029A7636AC28>,\n",
       " <Element 'LY' at 0x0000029A7636AC78>,\n",
       " <Element 'RX' at 0x0000029A7636AD18>,\n",
       " <Element 'RY' at 0x0000029A7636AE58>,\n",
       " <Element 'L2' at 0x0000029A7636AEF8>,\n",
       " <Element 'R2' at 0x0000029A7636AF48>,\n",
       " <Element 'Triangle' at 0x0000029A7636F098>,\n",
       " <Element 'Circle' at 0x0000029A7636F138>,\n",
       " <Element 'Cross' at 0x0000029A7636F188>,\n",
       " <Element 'Square' at 0x0000029A7636F228>,\n",
       " <Element 'DPad_Up' at 0x0000029A7636F278>,\n",
       " <Element 'DPad_Down' at 0x0000029A7636F318>,\n",
       " <Element 'DPad_Left' at 0x0000029A7636F368>,\n",
       " <Element 'DPad_Right' at 0x0000029A7636F408>,\n",
       " <Element 'L1' at 0x0000029A7636F4A8>,\n",
       " <Element 'R1' at 0x0000029A7636F598>,\n",
       " <Element 'Share' at 0x0000029A7636F5E8>,\n",
       " <Element 'Options' at 0x0000029A7636F6D8>,\n",
       " <Element 'L3' at 0x0000029A7636F7C8>,\n",
       " <Element 'R3' at 0x0000029A7636F818>,\n",
       " <Element 'PS' at 0x0000029A7636F908>,\n",
       " <Element 'TouchButton' at 0x0000029A7636F958>,\n",
       " <Element 'TouchPacketCounter' at 0x0000029A7636FA98>,\n",
       " <Element 'FrameCounter' at 0x0000029A7636FB88>,\n",
       " <Element 'Battery' at 0x0000029A7636FBD8>,\n",
       " <Element 'IsCharging' at 0x0000029A7636FCC8>,\n",
       " <Element 'AccelX' at 0x0000029A7636FD68>,\n",
       " <Element 'AccelY' at 0x0000029A7636FE08>,\n",
       " <Element 'AccelZ' at 0x0000029A7636FEA8>,\n",
       " <Element 'GyroX' at 0x0000029A7636FF48>,\n",
       " <Element 'GyroY' at 0x0000029A7636FF98>,\n",
       " <Element 'GyroZ' at 0x0000029A76372188>]"
      ]
     },
     "metadata": {},
     "execution_count": 21
    }
   ],
   "source": [
    "state0"
   ]
  },
  {
   "cell_type": "code",
   "execution_count": 22,
   "metadata": {},
   "outputs": [
    {
     "output_type": "execute_result",
     "data": {
      "text/plain": [
       "['ReportTimeStamp',\n",
       " 'LX',\n",
       " 'LY',\n",
       " 'RX',\n",
       " 'RY',\n",
       " 'L2',\n",
       " 'R2',\n",
       " 'Triangle',\n",
       " 'Circle',\n",
       " 'Cross',\n",
       " 'Square',\n",
       " 'DPad_Up',\n",
       " 'DPad_Down',\n",
       " 'DPad_Left',\n",
       " 'DPad_Right',\n",
       " 'L1',\n",
       " 'R1',\n",
       " 'Share',\n",
       " 'Options',\n",
       " 'L3',\n",
       " 'R3',\n",
       " 'PS',\n",
       " 'TouchButton',\n",
       " 'TouchPacketCounter',\n",
       " 'FrameCounter',\n",
       " 'Battery',\n",
       " 'IsCharging',\n",
       " 'AccelX',\n",
       " 'AccelY',\n",
       " 'AccelZ',\n",
       " 'GyroX',\n",
       " 'GyroY',\n",
       " 'GyroZ']"
      ]
     },
     "metadata": {},
     "execution_count": 22
    }
   ],
   "source": [
    "headers = [i.tag for i in state0]\n",
    "headers"
   ]
  },
  {
   "cell_type": "code",
   "execution_count": 24,
   "metadata": {},
   "outputs": [
    {
     "output_type": "execute_result",
     "data": {
      "text/plain": [
       "['2021-02-09T12:01:44.602908Z',\n",
       " '123',\n",
       " '130',\n",
       " '130',\n",
       " '125',\n",
       " '0',\n",
       " '0',\n",
       " 'false',\n",
       " 'false',\n",
       " 'false',\n",
       " 'false',\n",
       " 'false',\n",
       " 'false',\n",
       " 'false',\n",
       " 'false',\n",
       " 'false',\n",
       " 'false',\n",
       " 'false',\n",
       " 'false',\n",
       " 'false',\n",
       " 'false',\n",
       " 'false',\n",
       " 'false',\n",
       " '195',\n",
       " '40',\n",
       " '110',\n",
       " 'true',\n",
       " '32',\n",
       " '258',\n",
       " '202',\n",
       " '1236',\n",
       " '7647',\n",
       " '-4608']"
      ]
     },
     "metadata": {},
     "execution_count": 24
    }
   ],
   "source": [
    "state0txt = [i.text for i in state0]\n",
    "state0txt"
   ]
  },
  {
   "cell_type": "code",
   "execution_count": 28,
   "metadata": {},
   "outputs": [
    {
     "output_type": "execute_result",
     "data": {
      "text/plain": [
       "                   ReportTimeStamp   LX   LY   RX   RY L2 R2 Triangle Circle  \\\n",
       "0      2021-02-09T12:01:44.602908Z  123  130  130  125  0  0    false  false   \n",
       "1     2021-02-09T12:01:44.6199559Z  123  130  129  124  0  0    false  false   \n",
       "2     2021-02-09T12:01:44.6229572Z  123  130  130  125  0  0    false  false   \n",
       "3     2021-02-09T12:01:44.6269062Z  123  130  131  125  0  0    false  false   \n",
       "4     2021-02-09T12:01:44.6309551Z  123  129  128  125  0  0    false  false   \n",
       "...                            ...  ...  ...  ...  ... .. ..      ...    ...   \n",
       "3006  2021-02-09T12:02:08.1230899Z  123  129  131  125  0  0    false  false   \n",
       "3007  2021-02-09T12:02:08.1271085Z  123  130  129  125  0  0    false  false   \n",
       "3008  2021-02-09T12:02:08.1310995Z  123  129  128  125  0  0    false  false   \n",
       "3009  2021-02-09T12:02:08.1351078Z  123  130  134  125  0  0    false  false   \n",
       "3010  2021-02-09T12:02:08.1390918Z  123  130  129  126  0  0    false  false   \n",
       "\n",
       "      Cross  ... TouchPacketCounter FrameCounter Battery IsCharging AccelX  \\\n",
       "0     false  ...                195           40     110       true     32   \n",
       "1     false  ...                210           44     110       true   -187   \n",
       "2     false  ...                224           45     110       true   -185   \n",
       "3     false  ...                232           46     110       true   -186   \n",
       "4     false  ...                232           47     110       true   -181   \n",
       "...     ...  ...                ...          ...     ...        ...    ...   \n",
       "3006  false  ...                 60           32     110       true    137   \n",
       "3007  false  ...                 60           33     110       true    105   \n",
       "3008  false  ...                 97           34     110       true     78   \n",
       "3009  false  ...                 97           35     110       true     52   \n",
       "3010  false  ...                111           36     110       true     34   \n",
       "\n",
       "     AccelY AccelZ  GyroX GyroY  GyroZ  \n",
       "0       258    202   1236  7647  -4608  \n",
       "1       247    165   1033  7645  -4352  \n",
       "2       245    150   1062  7876  -4352  \n",
       "3       499     95   1222  7490  -4352  \n",
       "4       490    124   1033  7637  -4608  \n",
       "...     ...    ...    ...   ...    ...  \n",
       "3006     59   -191  -7054  4176    768  \n",
       "3007     51   -174  -7087  4168    768  \n",
       "3008     41   -166  -7164  4133    768  \n",
       "3009     31   -145  -6995  3895    768  \n",
       "3010     20   -129  -7094  3864    768  \n",
       "\n",
       "[3011 rows x 33 columns]"
      ],
      "text/html": "<div>\n<style scoped>\n    .dataframe tbody tr th:only-of-type {\n        vertical-align: middle;\n    }\n\n    .dataframe tbody tr th {\n        vertical-align: top;\n    }\n\n    .dataframe thead th {\n        text-align: right;\n    }\n</style>\n<table border=\"1\" class=\"dataframe\">\n  <thead>\n    <tr style=\"text-align: right;\">\n      <th></th>\n      <th>ReportTimeStamp</th>\n      <th>LX</th>\n      <th>LY</th>\n      <th>RX</th>\n      <th>RY</th>\n      <th>L2</th>\n      <th>R2</th>\n      <th>Triangle</th>\n      <th>Circle</th>\n      <th>Cross</th>\n      <th>...</th>\n      <th>TouchPacketCounter</th>\n      <th>FrameCounter</th>\n      <th>Battery</th>\n      <th>IsCharging</th>\n      <th>AccelX</th>\n      <th>AccelY</th>\n      <th>AccelZ</th>\n      <th>GyroX</th>\n      <th>GyroY</th>\n      <th>GyroZ</th>\n    </tr>\n  </thead>\n  <tbody>\n    <tr>\n      <th>0</th>\n      <td>2021-02-09T12:01:44.602908Z</td>\n      <td>123</td>\n      <td>130</td>\n      <td>130</td>\n      <td>125</td>\n      <td>0</td>\n      <td>0</td>\n      <td>false</td>\n      <td>false</td>\n      <td>false</td>\n      <td>...</td>\n      <td>195</td>\n      <td>40</td>\n      <td>110</td>\n      <td>true</td>\n      <td>32</td>\n      <td>258</td>\n      <td>202</td>\n      <td>1236</td>\n      <td>7647</td>\n      <td>-4608</td>\n    </tr>\n    <tr>\n      <th>1</th>\n      <td>2021-02-09T12:01:44.6199559Z</td>\n      <td>123</td>\n      <td>130</td>\n      <td>129</td>\n      <td>124</td>\n      <td>0</td>\n      <td>0</td>\n      <td>false</td>\n      <td>false</td>\n      <td>false</td>\n      <td>...</td>\n      <td>210</td>\n      <td>44</td>\n      <td>110</td>\n      <td>true</td>\n      <td>-187</td>\n      <td>247</td>\n      <td>165</td>\n      <td>1033</td>\n      <td>7645</td>\n      <td>-4352</td>\n    </tr>\n    <tr>\n      <th>2</th>\n      <td>2021-02-09T12:01:44.6229572Z</td>\n      <td>123</td>\n      <td>130</td>\n      <td>130</td>\n      <td>125</td>\n      <td>0</td>\n      <td>0</td>\n      <td>false</td>\n      <td>false</td>\n      <td>false</td>\n      <td>...</td>\n      <td>224</td>\n      <td>45</td>\n      <td>110</td>\n      <td>true</td>\n      <td>-185</td>\n      <td>245</td>\n      <td>150</td>\n      <td>1062</td>\n      <td>7876</td>\n      <td>-4352</td>\n    </tr>\n    <tr>\n      <th>3</th>\n      <td>2021-02-09T12:01:44.6269062Z</td>\n      <td>123</td>\n      <td>130</td>\n      <td>131</td>\n      <td>125</td>\n      <td>0</td>\n      <td>0</td>\n      <td>false</td>\n      <td>false</td>\n      <td>false</td>\n      <td>...</td>\n      <td>232</td>\n      <td>46</td>\n      <td>110</td>\n      <td>true</td>\n      <td>-186</td>\n      <td>499</td>\n      <td>95</td>\n      <td>1222</td>\n      <td>7490</td>\n      <td>-4352</td>\n    </tr>\n    <tr>\n      <th>4</th>\n      <td>2021-02-09T12:01:44.6309551Z</td>\n      <td>123</td>\n      <td>129</td>\n      <td>128</td>\n      <td>125</td>\n      <td>0</td>\n      <td>0</td>\n      <td>false</td>\n      <td>false</td>\n      <td>false</td>\n      <td>...</td>\n      <td>232</td>\n      <td>47</td>\n      <td>110</td>\n      <td>true</td>\n      <td>-181</td>\n      <td>490</td>\n      <td>124</td>\n      <td>1033</td>\n      <td>7637</td>\n      <td>-4608</td>\n    </tr>\n    <tr>\n      <th>...</th>\n      <td>...</td>\n      <td>...</td>\n      <td>...</td>\n      <td>...</td>\n      <td>...</td>\n      <td>...</td>\n      <td>...</td>\n      <td>...</td>\n      <td>...</td>\n      <td>...</td>\n      <td>...</td>\n      <td>...</td>\n      <td>...</td>\n      <td>...</td>\n      <td>...</td>\n      <td>...</td>\n      <td>...</td>\n      <td>...</td>\n      <td>...</td>\n      <td>...</td>\n      <td>...</td>\n    </tr>\n    <tr>\n      <th>3006</th>\n      <td>2021-02-09T12:02:08.1230899Z</td>\n      <td>123</td>\n      <td>129</td>\n      <td>131</td>\n      <td>125</td>\n      <td>0</td>\n      <td>0</td>\n      <td>false</td>\n      <td>false</td>\n      <td>false</td>\n      <td>...</td>\n      <td>60</td>\n      <td>32</td>\n      <td>110</td>\n      <td>true</td>\n      <td>137</td>\n      <td>59</td>\n      <td>-191</td>\n      <td>-7054</td>\n      <td>4176</td>\n      <td>768</td>\n    </tr>\n    <tr>\n      <th>3007</th>\n      <td>2021-02-09T12:02:08.1271085Z</td>\n      <td>123</td>\n      <td>130</td>\n      <td>129</td>\n      <td>125</td>\n      <td>0</td>\n      <td>0</td>\n      <td>false</td>\n      <td>false</td>\n      <td>false</td>\n      <td>...</td>\n      <td>60</td>\n      <td>33</td>\n      <td>110</td>\n      <td>true</td>\n      <td>105</td>\n      <td>51</td>\n      <td>-174</td>\n      <td>-7087</td>\n      <td>4168</td>\n      <td>768</td>\n    </tr>\n    <tr>\n      <th>3008</th>\n      <td>2021-02-09T12:02:08.1310995Z</td>\n      <td>123</td>\n      <td>129</td>\n      <td>128</td>\n      <td>125</td>\n      <td>0</td>\n      <td>0</td>\n      <td>false</td>\n      <td>false</td>\n      <td>false</td>\n      <td>...</td>\n      <td>97</td>\n      <td>34</td>\n      <td>110</td>\n      <td>true</td>\n      <td>78</td>\n      <td>41</td>\n      <td>-166</td>\n      <td>-7164</td>\n      <td>4133</td>\n      <td>768</td>\n    </tr>\n    <tr>\n      <th>3009</th>\n      <td>2021-02-09T12:02:08.1351078Z</td>\n      <td>123</td>\n      <td>130</td>\n      <td>134</td>\n      <td>125</td>\n      <td>0</td>\n      <td>0</td>\n      <td>false</td>\n      <td>false</td>\n      <td>false</td>\n      <td>...</td>\n      <td>97</td>\n      <td>35</td>\n      <td>110</td>\n      <td>true</td>\n      <td>52</td>\n      <td>31</td>\n      <td>-145</td>\n      <td>-6995</td>\n      <td>3895</td>\n      <td>768</td>\n    </tr>\n    <tr>\n      <th>3010</th>\n      <td>2021-02-09T12:02:08.1390918Z</td>\n      <td>123</td>\n      <td>130</td>\n      <td>129</td>\n      <td>126</td>\n      <td>0</td>\n      <td>0</td>\n      <td>false</td>\n      <td>false</td>\n      <td>false</td>\n      <td>...</td>\n      <td>111</td>\n      <td>36</td>\n      <td>110</td>\n      <td>true</td>\n      <td>34</td>\n      <td>20</td>\n      <td>-129</td>\n      <td>-7094</td>\n      <td>3864</td>\n      <td>768</td>\n    </tr>\n  </tbody>\n</table>\n<p>3011 rows × 33 columns</p>\n</div>"
     },
     "metadata": {},
     "execution_count": 28
    }
   ],
   "source": [
    "import pandas as pd\n",
    "df = pd.DataFrame(rows,columns = headers)\n",
    "df "
   ]
  },
  {
   "cell_type": "code",
   "execution_count": 29,
   "metadata": {},
   "outputs": [
    {
     "output_type": "execute_result",
     "data": {
      "text/plain": [
       "                   ReportTimeStamp   LX   LY   RX   RY L2 R2 Triangle Circle  \\\n",
       "0      2021-02-09T12:01:44.602908Z  123  130  130  125  0  0    false  false   \n",
       "1     2021-02-09T12:01:44.6199559Z  123  130  129  124  0  0    false  false   \n",
       "2     2021-02-09T12:01:44.6229572Z  123  130  130  125  0  0    false  false   \n",
       "3     2021-02-09T12:01:44.6269062Z  123  130  131  125  0  0    false  false   \n",
       "4     2021-02-09T12:01:44.6309551Z  123  129  128  125  0  0    false  false   \n",
       "...                            ...  ...  ...  ...  ... .. ..      ...    ...   \n",
       "3006  2021-02-09T12:02:08.1230899Z  123  129  131  125  0  0    false  false   \n",
       "3007  2021-02-09T12:02:08.1271085Z  123  130  129  125  0  0    false  false   \n",
       "3008  2021-02-09T12:02:08.1310995Z  123  129  128  125  0  0    false  false   \n",
       "3009  2021-02-09T12:02:08.1351078Z  123  130  134  125  0  0    false  false   \n",
       "3010  2021-02-09T12:02:08.1390918Z  123  130  129  126  0  0    false  false   \n",
       "\n",
       "      Cross  ... TouchPacketCounter FrameCounter Battery IsCharging AccelX  \\\n",
       "0     false  ...                195           40     110       true     32   \n",
       "1     false  ...                210           44     110       true   -187   \n",
       "2     false  ...                224           45     110       true   -185   \n",
       "3     false  ...                232           46     110       true   -186   \n",
       "4     false  ...                232           47     110       true   -181   \n",
       "...     ...  ...                ...          ...     ...        ...    ...   \n",
       "3006  false  ...                 60           32     110       true    137   \n",
       "3007  false  ...                 60           33     110       true    105   \n",
       "3008  false  ...                 97           34     110       true     78   \n",
       "3009  false  ...                 97           35     110       true     52   \n",
       "3010  false  ...                111           36     110       true     34   \n",
       "\n",
       "     AccelY AccelZ  GyroX GyroY  GyroZ  \n",
       "0       258    202   1236  7647  -4608  \n",
       "1       247    165   1033  7645  -4352  \n",
       "2       245    150   1062  7876  -4352  \n",
       "3       499     95   1222  7490  -4352  \n",
       "4       490    124   1033  7637  -4608  \n",
       "...     ...    ...    ...   ...    ...  \n",
       "3006     59   -191  -7054  4176    768  \n",
       "3007     51   -174  -7087  4168    768  \n",
       "3008     41   -166  -7164  4133    768  \n",
       "3009     31   -145  -6995  3895    768  \n",
       "3010     20   -129  -7094  3864    768  \n",
       "\n",
       "[3011 rows x 33 columns]"
      ],
      "text/html": "<div>\n<style scoped>\n    .dataframe tbody tr th:only-of-type {\n        vertical-align: middle;\n    }\n\n    .dataframe tbody tr th {\n        vertical-align: top;\n    }\n\n    .dataframe thead th {\n        text-align: right;\n    }\n</style>\n<table border=\"1\" class=\"dataframe\">\n  <thead>\n    <tr style=\"text-align: right;\">\n      <th></th>\n      <th>ReportTimeStamp</th>\n      <th>LX</th>\n      <th>LY</th>\n      <th>RX</th>\n      <th>RY</th>\n      <th>L2</th>\n      <th>R2</th>\n      <th>Triangle</th>\n      <th>Circle</th>\n      <th>Cross</th>\n      <th>...</th>\n      <th>TouchPacketCounter</th>\n      <th>FrameCounter</th>\n      <th>Battery</th>\n      <th>IsCharging</th>\n      <th>AccelX</th>\n      <th>AccelY</th>\n      <th>AccelZ</th>\n      <th>GyroX</th>\n      <th>GyroY</th>\n      <th>GyroZ</th>\n    </tr>\n  </thead>\n  <tbody>\n    <tr>\n      <th>0</th>\n      <td>2021-02-09T12:01:44.602908Z</td>\n      <td>123</td>\n      <td>130</td>\n      <td>130</td>\n      <td>125</td>\n      <td>0</td>\n      <td>0</td>\n      <td>false</td>\n      <td>false</td>\n      <td>false</td>\n      <td>...</td>\n      <td>195</td>\n      <td>40</td>\n      <td>110</td>\n      <td>true</td>\n      <td>32</td>\n      <td>258</td>\n      <td>202</td>\n      <td>1236</td>\n      <td>7647</td>\n      <td>-4608</td>\n    </tr>\n    <tr>\n      <th>1</th>\n      <td>2021-02-09T12:01:44.6199559Z</td>\n      <td>123</td>\n      <td>130</td>\n      <td>129</td>\n      <td>124</td>\n      <td>0</td>\n      <td>0</td>\n      <td>false</td>\n      <td>false</td>\n      <td>false</td>\n      <td>...</td>\n      <td>210</td>\n      <td>44</td>\n      <td>110</td>\n      <td>true</td>\n      <td>-187</td>\n      <td>247</td>\n      <td>165</td>\n      <td>1033</td>\n      <td>7645</td>\n      <td>-4352</td>\n    </tr>\n    <tr>\n      <th>2</th>\n      <td>2021-02-09T12:01:44.6229572Z</td>\n      <td>123</td>\n      <td>130</td>\n      <td>130</td>\n      <td>125</td>\n      <td>0</td>\n      <td>0</td>\n      <td>false</td>\n      <td>false</td>\n      <td>false</td>\n      <td>...</td>\n      <td>224</td>\n      <td>45</td>\n      <td>110</td>\n      <td>true</td>\n      <td>-185</td>\n      <td>245</td>\n      <td>150</td>\n      <td>1062</td>\n      <td>7876</td>\n      <td>-4352</td>\n    </tr>\n    <tr>\n      <th>3</th>\n      <td>2021-02-09T12:01:44.6269062Z</td>\n      <td>123</td>\n      <td>130</td>\n      <td>131</td>\n      <td>125</td>\n      <td>0</td>\n      <td>0</td>\n      <td>false</td>\n      <td>false</td>\n      <td>false</td>\n      <td>...</td>\n      <td>232</td>\n      <td>46</td>\n      <td>110</td>\n      <td>true</td>\n      <td>-186</td>\n      <td>499</td>\n      <td>95</td>\n      <td>1222</td>\n      <td>7490</td>\n      <td>-4352</td>\n    </tr>\n    <tr>\n      <th>4</th>\n      <td>2021-02-09T12:01:44.6309551Z</td>\n      <td>123</td>\n      <td>129</td>\n      <td>128</td>\n      <td>125</td>\n      <td>0</td>\n      <td>0</td>\n      <td>false</td>\n      <td>false</td>\n      <td>false</td>\n      <td>...</td>\n      <td>232</td>\n      <td>47</td>\n      <td>110</td>\n      <td>true</td>\n      <td>-181</td>\n      <td>490</td>\n      <td>124</td>\n      <td>1033</td>\n      <td>7637</td>\n      <td>-4608</td>\n    </tr>\n    <tr>\n      <th>...</th>\n      <td>...</td>\n      <td>...</td>\n      <td>...</td>\n      <td>...</td>\n      <td>...</td>\n      <td>...</td>\n      <td>...</td>\n      <td>...</td>\n      <td>...</td>\n      <td>...</td>\n      <td>...</td>\n      <td>...</td>\n      <td>...</td>\n      <td>...</td>\n      <td>...</td>\n      <td>...</td>\n      <td>...</td>\n      <td>...</td>\n      <td>...</td>\n      <td>...</td>\n      <td>...</td>\n    </tr>\n    <tr>\n      <th>3006</th>\n      <td>2021-02-09T12:02:08.1230899Z</td>\n      <td>123</td>\n      <td>129</td>\n      <td>131</td>\n      <td>125</td>\n      <td>0</td>\n      <td>0</td>\n      <td>false</td>\n      <td>false</td>\n      <td>false</td>\n      <td>...</td>\n      <td>60</td>\n      <td>32</td>\n      <td>110</td>\n      <td>true</td>\n      <td>137</td>\n      <td>59</td>\n      <td>-191</td>\n      <td>-7054</td>\n      <td>4176</td>\n      <td>768</td>\n    </tr>\n    <tr>\n      <th>3007</th>\n      <td>2021-02-09T12:02:08.1271085Z</td>\n      <td>123</td>\n      <td>130</td>\n      <td>129</td>\n      <td>125</td>\n      <td>0</td>\n      <td>0</td>\n      <td>false</td>\n      <td>false</td>\n      <td>false</td>\n      <td>...</td>\n      <td>60</td>\n      <td>33</td>\n      <td>110</td>\n      <td>true</td>\n      <td>105</td>\n      <td>51</td>\n      <td>-174</td>\n      <td>-7087</td>\n      <td>4168</td>\n      <td>768</td>\n    </tr>\n    <tr>\n      <th>3008</th>\n      <td>2021-02-09T12:02:08.1310995Z</td>\n      <td>123</td>\n      <td>129</td>\n      <td>128</td>\n      <td>125</td>\n      <td>0</td>\n      <td>0</td>\n      <td>false</td>\n      <td>false</td>\n      <td>false</td>\n      <td>...</td>\n      <td>97</td>\n      <td>34</td>\n      <td>110</td>\n      <td>true</td>\n      <td>78</td>\n      <td>41</td>\n      <td>-166</td>\n      <td>-7164</td>\n      <td>4133</td>\n      <td>768</td>\n    </tr>\n    <tr>\n      <th>3009</th>\n      <td>2021-02-09T12:02:08.1351078Z</td>\n      <td>123</td>\n      <td>130</td>\n      <td>134</td>\n      <td>125</td>\n      <td>0</td>\n      <td>0</td>\n      <td>false</td>\n      <td>false</td>\n      <td>false</td>\n      <td>...</td>\n      <td>97</td>\n      <td>35</td>\n      <td>110</td>\n      <td>true</td>\n      <td>52</td>\n      <td>31</td>\n      <td>-145</td>\n      <td>-6995</td>\n      <td>3895</td>\n      <td>768</td>\n    </tr>\n    <tr>\n      <th>3010</th>\n      <td>2021-02-09T12:02:08.1390918Z</td>\n      <td>123</td>\n      <td>130</td>\n      <td>129</td>\n      <td>126</td>\n      <td>0</td>\n      <td>0</td>\n      <td>false</td>\n      <td>false</td>\n      <td>false</td>\n      <td>...</td>\n      <td>111</td>\n      <td>36</td>\n      <td>110</td>\n      <td>true</td>\n      <td>34</td>\n      <td>20</td>\n      <td>-129</td>\n      <td>-7094</td>\n      <td>3864</td>\n      <td>768</td>\n    </tr>\n  </tbody>\n</table>\n<p>3011 rows × 33 columns</p>\n</div>"
     },
     "metadata": {},
     "execution_count": 29
    }
   ],
   "source": [
    "import PS4_control\n",
    "\n",
    "PS4_control.read_controller(\"test.xml\")"
   ]
  },
  {
   "cell_type": "code",
   "execution_count": 31,
   "metadata": {},
   "outputs": [
    {
     "output_type": "execute_result",
     "data": {
      "text/plain": [
       "                   ReportTimeStamp   LX   LY   RX   RY L2 R2 Triangle Circle  \\\n",
       "1911  2021-02-09T12:01:52.2590998Z  123  129  130  126  0  0    false  false   \n",
       "1912  2021-02-09T12:01:52.2630429Z  123  129  133  126  0  0    false  false   \n",
       "1913   2021-02-09T12:01:52.267082Z  123  129  130  126  0  0    false  false   \n",
       "1914  2021-02-09T12:01:52.2711013Z  123  129  130  125  0  0    false  false   \n",
       "1915  2021-02-09T12:01:52.2750997Z  123  130  134  126  0  0    false  false   \n",
       "1916   2021-02-09T12:01:52.279088Z  123  130  130  125  0  0    false  false   \n",
       "1917  2021-02-09T12:01:52.2830476Z  123  129  129  126  0  0    false  false   \n",
       "1918  2021-02-09T12:01:52.2871051Z  123  129  134  125  0  0    false  false   \n",
       "1919  2021-02-09T12:01:52.2910585Z  123  130  129  126  0  0    false  false   \n",
       "1920  2021-02-09T12:01:52.2951014Z  123  129  129  126  0  0    false  false   \n",
       "1921  2021-02-09T12:01:52.2991092Z  123  129  130  125  0  0    false  false   \n",
       "1922  2021-02-09T12:01:52.3030884Z  123  130  129  125  0  0    false  false   \n",
       "1923  2021-02-09T12:01:52.3070895Z  123  129  129  126  0  0    false  false   \n",
       "1924  2021-02-09T12:01:52.3110892Z  123  129  130  125  0  0    false  false   \n",
       "1925  2021-02-09T12:01:52.3150884Z  123  130  131  126  0  0    false  false   \n",
       "1926  2021-02-09T12:01:52.3190382Z  123  129  129  125  0  0    false  false   \n",
       "1927  2021-02-09T12:01:52.3231027Z  123  129  129  126  0  0    false  false   \n",
       "1928  2021-02-09T12:01:52.3270883Z  123  130  132  125  0  0    false  false   \n",
       "1929   2021-02-09T12:01:52.331084Z  123  130  129  125  0  0    false  false   \n",
       "1930  2021-02-09T12:01:52.3350891Z  123  129  130  126  0  0    false  false   \n",
       "1931  2021-02-09T12:01:52.3390892Z  123  130  134  126  0  0    false  false   \n",
       "1932  2021-02-09T12:01:52.3450667Z  123  130  129  126  0  0    false  false   \n",
       "1933  2021-02-09T12:01:52.3480892Z  123  129  129  126  0  0    false  false   \n",
       "1934  2021-02-09T12:01:52.3510903Z  123  130  130  125  0  0    false  false   \n",
       "1935  2021-02-09T12:01:52.3550388Z  123  130  132  126  0  0    false  false   \n",
       "1936  2021-02-09T12:01:52.3590534Z  123  129  130  125  0  0    false  false   \n",
       "1937  2021-02-09T12:01:52.3630413Z  123  130  129  125  0  0    false  false   \n",
       "1938  2021-02-09T12:01:52.3670892Z  123  130  135  126  0  0    false  false   \n",
       "1939  2021-02-09T12:01:52.3710888Z  123  130  130  125  0  0    false  false   \n",
       "1940  2021-02-09T12:01:52.3751067Z  123  130  130  125  0  0    false  false   \n",
       "\n",
       "      Cross  ... TouchPacketCounter FrameCounter Battery IsCharging AccelX  \\\n",
       "1911  false  ...                 90           34     110       true    -23   \n",
       "1912  false  ...                 90           35     110       true    -49   \n",
       "1913  false  ...                 90           36     110       true   -249   \n",
       "1914  false  ...                 90           37     110       true   -226   \n",
       "1915  false  ...                 90           38     110       true   -223   \n",
       "1916  false  ...                 90           39     110       true   -232   \n",
       "1917  false  ...                 90           40     110       true   -241   \n",
       "1918  false  ...                 90           41     110       true   -252   \n",
       "1919  false  ...                 90           42     110       true   -255   \n",
       "1920  false  ...                 90           43     110       true     -3   \n",
       "1921  false  ...                 90           44     110       true    -11   \n",
       "1922  false  ...                 90           45     110       true    -22   \n",
       "1923  false  ...                 90           46     110       true    -30   \n",
       "1924  false  ...                 90           47     110       true    -35   \n",
       "1925  false  ...                 90           48     110       true    -43   \n",
       "1926  false  ...                 90           49     110       true    -48   \n",
       "1927  false  ...                 90           50     110       true    -52   \n",
       "1928  false  ...                 90           51     110       true    -57   \n",
       "1929  false  ...                 90           52     110       true    -60   \n",
       "1930  false  ...                 90           53     110       true    -63   \n",
       "1931  false  ...                 90           54     110       true    -67   \n",
       "1932  false  ...                 90           55     110       true    -69   \n",
       "1933  false  ...                 90           56     110       true    -72   \n",
       "1934  false  ...                 90           57     110       true    -78   \n",
       "1935  false  ...                 90           58     110       true    176   \n",
       "1936  false  ...                 90           59     110       true    171   \n",
       "1937  false  ...                 90           60     110       true    167   \n",
       "1938  false  ...                 90           61     110       true    164   \n",
       "1939  false  ...                 90           62     110       true    162   \n",
       "1940  false  ...                 90           63     110       true    160   \n",
       "\n",
       "     AccelY AccelZ GyroX GyroY  GyroZ  \n",
       "1911     -6   -226  1324  9086   -768  \n",
       "1912    246   -201   924  6715  -1024  \n",
       "1913    -18    161   866  7426  -1280  \n",
       "1914    -21      3  1261  7610  -1024  \n",
       "1915    -13     25  1165  7700   -768  \n",
       "1916     -8     36  1243  7891  -1024  \n",
       "1917    -13      2  1110  8113  -1024  \n",
       "1918    -24    207   840  8136  -1024  \n",
       "1919    -27    149   835  7945   -768  \n",
       "1920    -24   -118   849  7945   -768  \n",
       "1921    -19    -89   931  8183  -1024  \n",
       "1922    -18    -74   899  8174  -1024  \n",
       "1923    -20   -104   879  7955   -768  \n",
       "1924    -22    -98   862  7968   -768  \n",
       "1925    -22    -97   818  7981   -768  \n",
       "1926    -21    -81   849  7994   -768  \n",
       "1927    -20   -117   843  7977   -768  \n",
       "1928    -19   -116   833  7979   -768  \n",
       "1929    -16   -100   837  7972   -768  \n",
       "1930    -14    -95   837  8017   -768  \n",
       "1931    -11    -94   825  8012   -768  \n",
       "1932     -9    -92   867  8036   -768  \n",
       "1933     -6   -100   905  8051   -768  \n",
       "1934     -3   -119   916  8057   -768  \n",
       "1935   -256   -140   941  8054   -768  \n",
       "1936   -252   -175   966  8067   -768  \n",
       "1937   -247   -188   979  8077   -768  \n",
       "1938   -244   -215   980  8041   -768  \n",
       "1939   -242   -221   934  8015   -768  \n",
       "1940     16   -222   890  7986   -768  \n",
       "\n",
       "[30 rows x 33 columns]"
      ],
      "text/html": "<div>\n<style scoped>\n    .dataframe tbody tr th:only-of-type {\n        vertical-align: middle;\n    }\n\n    .dataframe tbody tr th {\n        vertical-align: top;\n    }\n\n    .dataframe thead th {\n        text-align: right;\n    }\n</style>\n<table border=\"1\" class=\"dataframe\">\n  <thead>\n    <tr style=\"text-align: right;\">\n      <th></th>\n      <th>ReportTimeStamp</th>\n      <th>LX</th>\n      <th>LY</th>\n      <th>RX</th>\n      <th>RY</th>\n      <th>L2</th>\n      <th>R2</th>\n      <th>Triangle</th>\n      <th>Circle</th>\n      <th>Cross</th>\n      <th>...</th>\n      <th>TouchPacketCounter</th>\n      <th>FrameCounter</th>\n      <th>Battery</th>\n      <th>IsCharging</th>\n      <th>AccelX</th>\n      <th>AccelY</th>\n      <th>AccelZ</th>\n      <th>GyroX</th>\n      <th>GyroY</th>\n      <th>GyroZ</th>\n    </tr>\n  </thead>\n  <tbody>\n    <tr>\n      <th>1911</th>\n      <td>2021-02-09T12:01:52.2590998Z</td>\n      <td>123</td>\n      <td>129</td>\n      <td>130</td>\n      <td>126</td>\n      <td>0</td>\n      <td>0</td>\n      <td>false</td>\n      <td>false</td>\n      <td>false</td>\n      <td>...</td>\n      <td>90</td>\n      <td>34</td>\n      <td>110</td>\n      <td>true</td>\n      <td>-23</td>\n      <td>-6</td>\n      <td>-226</td>\n      <td>1324</td>\n      <td>9086</td>\n      <td>-768</td>\n    </tr>\n    <tr>\n      <th>1912</th>\n      <td>2021-02-09T12:01:52.2630429Z</td>\n      <td>123</td>\n      <td>129</td>\n      <td>133</td>\n      <td>126</td>\n      <td>0</td>\n      <td>0</td>\n      <td>false</td>\n      <td>false</td>\n      <td>false</td>\n      <td>...</td>\n      <td>90</td>\n      <td>35</td>\n      <td>110</td>\n      <td>true</td>\n      <td>-49</td>\n      <td>246</td>\n      <td>-201</td>\n      <td>924</td>\n      <td>6715</td>\n      <td>-1024</td>\n    </tr>\n    <tr>\n      <th>1913</th>\n      <td>2021-02-09T12:01:52.267082Z</td>\n      <td>123</td>\n      <td>129</td>\n      <td>130</td>\n      <td>126</td>\n      <td>0</td>\n      <td>0</td>\n      <td>false</td>\n      <td>false</td>\n      <td>false</td>\n      <td>...</td>\n      <td>90</td>\n      <td>36</td>\n      <td>110</td>\n      <td>true</td>\n      <td>-249</td>\n      <td>-18</td>\n      <td>161</td>\n      <td>866</td>\n      <td>7426</td>\n      <td>-1280</td>\n    </tr>\n    <tr>\n      <th>1914</th>\n      <td>2021-02-09T12:01:52.2711013Z</td>\n      <td>123</td>\n      <td>129</td>\n      <td>130</td>\n      <td>125</td>\n      <td>0</td>\n      <td>0</td>\n      <td>false</td>\n      <td>false</td>\n      <td>false</td>\n      <td>...</td>\n      <td>90</td>\n      <td>37</td>\n      <td>110</td>\n      <td>true</td>\n      <td>-226</td>\n      <td>-21</td>\n      <td>3</td>\n      <td>1261</td>\n      <td>7610</td>\n      <td>-1024</td>\n    </tr>\n    <tr>\n      <th>1915</th>\n      <td>2021-02-09T12:01:52.2750997Z</td>\n      <td>123</td>\n      <td>130</td>\n      <td>134</td>\n      <td>126</td>\n      <td>0</td>\n      <td>0</td>\n      <td>false</td>\n      <td>false</td>\n      <td>false</td>\n      <td>...</td>\n      <td>90</td>\n      <td>38</td>\n      <td>110</td>\n      <td>true</td>\n      <td>-223</td>\n      <td>-13</td>\n      <td>25</td>\n      <td>1165</td>\n      <td>7700</td>\n      <td>-768</td>\n    </tr>\n    <tr>\n      <th>1916</th>\n      <td>2021-02-09T12:01:52.279088Z</td>\n      <td>123</td>\n      <td>130</td>\n      <td>130</td>\n      <td>125</td>\n      <td>0</td>\n      <td>0</td>\n      <td>false</td>\n      <td>false</td>\n      <td>false</td>\n      <td>...</td>\n      <td>90</td>\n      <td>39</td>\n      <td>110</td>\n      <td>true</td>\n      <td>-232</td>\n      <td>-8</td>\n      <td>36</td>\n      <td>1243</td>\n      <td>7891</td>\n      <td>-1024</td>\n    </tr>\n    <tr>\n      <th>1917</th>\n      <td>2021-02-09T12:01:52.2830476Z</td>\n      <td>123</td>\n      <td>129</td>\n      <td>129</td>\n      <td>126</td>\n      <td>0</td>\n      <td>0</td>\n      <td>false</td>\n      <td>false</td>\n      <td>false</td>\n      <td>...</td>\n      <td>90</td>\n      <td>40</td>\n      <td>110</td>\n      <td>true</td>\n      <td>-241</td>\n      <td>-13</td>\n      <td>2</td>\n      <td>1110</td>\n      <td>8113</td>\n      <td>-1024</td>\n    </tr>\n    <tr>\n      <th>1918</th>\n      <td>2021-02-09T12:01:52.2871051Z</td>\n      <td>123</td>\n      <td>129</td>\n      <td>134</td>\n      <td>125</td>\n      <td>0</td>\n      <td>0</td>\n      <td>false</td>\n      <td>false</td>\n      <td>false</td>\n      <td>...</td>\n      <td>90</td>\n      <td>41</td>\n      <td>110</td>\n      <td>true</td>\n      <td>-252</td>\n      <td>-24</td>\n      <td>207</td>\n      <td>840</td>\n      <td>8136</td>\n      <td>-1024</td>\n    </tr>\n    <tr>\n      <th>1919</th>\n      <td>2021-02-09T12:01:52.2910585Z</td>\n      <td>123</td>\n      <td>130</td>\n      <td>129</td>\n      <td>126</td>\n      <td>0</td>\n      <td>0</td>\n      <td>false</td>\n      <td>false</td>\n      <td>false</td>\n      <td>...</td>\n      <td>90</td>\n      <td>42</td>\n      <td>110</td>\n      <td>true</td>\n      <td>-255</td>\n      <td>-27</td>\n      <td>149</td>\n      <td>835</td>\n      <td>7945</td>\n      <td>-768</td>\n    </tr>\n    <tr>\n      <th>1920</th>\n      <td>2021-02-09T12:01:52.2951014Z</td>\n      <td>123</td>\n      <td>129</td>\n      <td>129</td>\n      <td>126</td>\n      <td>0</td>\n      <td>0</td>\n      <td>false</td>\n      <td>false</td>\n      <td>false</td>\n      <td>...</td>\n      <td>90</td>\n      <td>43</td>\n      <td>110</td>\n      <td>true</td>\n      <td>-3</td>\n      <td>-24</td>\n      <td>-118</td>\n      <td>849</td>\n      <td>7945</td>\n      <td>-768</td>\n    </tr>\n    <tr>\n      <th>1921</th>\n      <td>2021-02-09T12:01:52.2991092Z</td>\n      <td>123</td>\n      <td>129</td>\n      <td>130</td>\n      <td>125</td>\n      <td>0</td>\n      <td>0</td>\n      <td>false</td>\n      <td>false</td>\n      <td>false</td>\n      <td>...</td>\n      <td>90</td>\n      <td>44</td>\n      <td>110</td>\n      <td>true</td>\n      <td>-11</td>\n      <td>-19</td>\n      <td>-89</td>\n      <td>931</td>\n      <td>8183</td>\n      <td>-1024</td>\n    </tr>\n    <tr>\n      <th>1922</th>\n      <td>2021-02-09T12:01:52.3030884Z</td>\n      <td>123</td>\n      <td>130</td>\n      <td>129</td>\n      <td>125</td>\n      <td>0</td>\n      <td>0</td>\n      <td>false</td>\n      <td>false</td>\n      <td>false</td>\n      <td>...</td>\n      <td>90</td>\n      <td>45</td>\n      <td>110</td>\n      <td>true</td>\n      <td>-22</td>\n      <td>-18</td>\n      <td>-74</td>\n      <td>899</td>\n      <td>8174</td>\n      <td>-1024</td>\n    </tr>\n    <tr>\n      <th>1923</th>\n      <td>2021-02-09T12:01:52.3070895Z</td>\n      <td>123</td>\n      <td>129</td>\n      <td>129</td>\n      <td>126</td>\n      <td>0</td>\n      <td>0</td>\n      <td>false</td>\n      <td>false</td>\n      <td>false</td>\n      <td>...</td>\n      <td>90</td>\n      <td>46</td>\n      <td>110</td>\n      <td>true</td>\n      <td>-30</td>\n      <td>-20</td>\n      <td>-104</td>\n      <td>879</td>\n      <td>7955</td>\n      <td>-768</td>\n    </tr>\n    <tr>\n      <th>1924</th>\n      <td>2021-02-09T12:01:52.3110892Z</td>\n      <td>123</td>\n      <td>129</td>\n      <td>130</td>\n      <td>125</td>\n      <td>0</td>\n      <td>0</td>\n      <td>false</td>\n      <td>false</td>\n      <td>false</td>\n      <td>...</td>\n      <td>90</td>\n      <td>47</td>\n      <td>110</td>\n      <td>true</td>\n      <td>-35</td>\n      <td>-22</td>\n      <td>-98</td>\n      <td>862</td>\n      <td>7968</td>\n      <td>-768</td>\n    </tr>\n    <tr>\n      <th>1925</th>\n      <td>2021-02-09T12:01:52.3150884Z</td>\n      <td>123</td>\n      <td>130</td>\n      <td>131</td>\n      <td>126</td>\n      <td>0</td>\n      <td>0</td>\n      <td>false</td>\n      <td>false</td>\n      <td>false</td>\n      <td>...</td>\n      <td>90</td>\n      <td>48</td>\n      <td>110</td>\n      <td>true</td>\n      <td>-43</td>\n      <td>-22</td>\n      <td>-97</td>\n      <td>818</td>\n      <td>7981</td>\n      <td>-768</td>\n    </tr>\n    <tr>\n      <th>1926</th>\n      <td>2021-02-09T12:01:52.3190382Z</td>\n      <td>123</td>\n      <td>129</td>\n      <td>129</td>\n      <td>125</td>\n      <td>0</td>\n      <td>0</td>\n      <td>false</td>\n      <td>false</td>\n      <td>false</td>\n      <td>...</td>\n      <td>90</td>\n      <td>49</td>\n      <td>110</td>\n      <td>true</td>\n      <td>-48</td>\n      <td>-21</td>\n      <td>-81</td>\n      <td>849</td>\n      <td>7994</td>\n      <td>-768</td>\n    </tr>\n    <tr>\n      <th>1927</th>\n      <td>2021-02-09T12:01:52.3231027Z</td>\n      <td>123</td>\n      <td>129</td>\n      <td>129</td>\n      <td>126</td>\n      <td>0</td>\n      <td>0</td>\n      <td>false</td>\n      <td>false</td>\n      <td>false</td>\n      <td>...</td>\n      <td>90</td>\n      <td>50</td>\n      <td>110</td>\n      <td>true</td>\n      <td>-52</td>\n      <td>-20</td>\n      <td>-117</td>\n      <td>843</td>\n      <td>7977</td>\n      <td>-768</td>\n    </tr>\n    <tr>\n      <th>1928</th>\n      <td>2021-02-09T12:01:52.3270883Z</td>\n      <td>123</td>\n      <td>130</td>\n      <td>132</td>\n      <td>125</td>\n      <td>0</td>\n      <td>0</td>\n      <td>false</td>\n      <td>false</td>\n      <td>false</td>\n      <td>...</td>\n      <td>90</td>\n      <td>51</td>\n      <td>110</td>\n      <td>true</td>\n      <td>-57</td>\n      <td>-19</td>\n      <td>-116</td>\n      <td>833</td>\n      <td>7979</td>\n      <td>-768</td>\n    </tr>\n    <tr>\n      <th>1929</th>\n      <td>2021-02-09T12:01:52.331084Z</td>\n      <td>123</td>\n      <td>130</td>\n      <td>129</td>\n      <td>125</td>\n      <td>0</td>\n      <td>0</td>\n      <td>false</td>\n      <td>false</td>\n      <td>false</td>\n      <td>...</td>\n      <td>90</td>\n      <td>52</td>\n      <td>110</td>\n      <td>true</td>\n      <td>-60</td>\n      <td>-16</td>\n      <td>-100</td>\n      <td>837</td>\n      <td>7972</td>\n      <td>-768</td>\n    </tr>\n    <tr>\n      <th>1930</th>\n      <td>2021-02-09T12:01:52.3350891Z</td>\n      <td>123</td>\n      <td>129</td>\n      <td>130</td>\n      <td>126</td>\n      <td>0</td>\n      <td>0</td>\n      <td>false</td>\n      <td>false</td>\n      <td>false</td>\n      <td>...</td>\n      <td>90</td>\n      <td>53</td>\n      <td>110</td>\n      <td>true</td>\n      <td>-63</td>\n      <td>-14</td>\n      <td>-95</td>\n      <td>837</td>\n      <td>8017</td>\n      <td>-768</td>\n    </tr>\n    <tr>\n      <th>1931</th>\n      <td>2021-02-09T12:01:52.3390892Z</td>\n      <td>123</td>\n      <td>130</td>\n      <td>134</td>\n      <td>126</td>\n      <td>0</td>\n      <td>0</td>\n      <td>false</td>\n      <td>false</td>\n      <td>false</td>\n      <td>...</td>\n      <td>90</td>\n      <td>54</td>\n      <td>110</td>\n      <td>true</td>\n      <td>-67</td>\n      <td>-11</td>\n      <td>-94</td>\n      <td>825</td>\n      <td>8012</td>\n      <td>-768</td>\n    </tr>\n    <tr>\n      <th>1932</th>\n      <td>2021-02-09T12:01:52.3450667Z</td>\n      <td>123</td>\n      <td>130</td>\n      <td>129</td>\n      <td>126</td>\n      <td>0</td>\n      <td>0</td>\n      <td>false</td>\n      <td>false</td>\n      <td>false</td>\n      <td>...</td>\n      <td>90</td>\n      <td>55</td>\n      <td>110</td>\n      <td>true</td>\n      <td>-69</td>\n      <td>-9</td>\n      <td>-92</td>\n      <td>867</td>\n      <td>8036</td>\n      <td>-768</td>\n    </tr>\n    <tr>\n      <th>1933</th>\n      <td>2021-02-09T12:01:52.3480892Z</td>\n      <td>123</td>\n      <td>129</td>\n      <td>129</td>\n      <td>126</td>\n      <td>0</td>\n      <td>0</td>\n      <td>false</td>\n      <td>false</td>\n      <td>false</td>\n      <td>...</td>\n      <td>90</td>\n      <td>56</td>\n      <td>110</td>\n      <td>true</td>\n      <td>-72</td>\n      <td>-6</td>\n      <td>-100</td>\n      <td>905</td>\n      <td>8051</td>\n      <td>-768</td>\n    </tr>\n    <tr>\n      <th>1934</th>\n      <td>2021-02-09T12:01:52.3510903Z</td>\n      <td>123</td>\n      <td>130</td>\n      <td>130</td>\n      <td>125</td>\n      <td>0</td>\n      <td>0</td>\n      <td>false</td>\n      <td>false</td>\n      <td>false</td>\n      <td>...</td>\n      <td>90</td>\n      <td>57</td>\n      <td>110</td>\n      <td>true</td>\n      <td>-78</td>\n      <td>-3</td>\n      <td>-119</td>\n      <td>916</td>\n      <td>8057</td>\n      <td>-768</td>\n    </tr>\n    <tr>\n      <th>1935</th>\n      <td>2021-02-09T12:01:52.3550388Z</td>\n      <td>123</td>\n      <td>130</td>\n      <td>132</td>\n      <td>126</td>\n      <td>0</td>\n      <td>0</td>\n      <td>false</td>\n      <td>false</td>\n      <td>false</td>\n      <td>...</td>\n      <td>90</td>\n      <td>58</td>\n      <td>110</td>\n      <td>true</td>\n      <td>176</td>\n      <td>-256</td>\n      <td>-140</td>\n      <td>941</td>\n      <td>8054</td>\n      <td>-768</td>\n    </tr>\n    <tr>\n      <th>1936</th>\n      <td>2021-02-09T12:01:52.3590534Z</td>\n      <td>123</td>\n      <td>129</td>\n      <td>130</td>\n      <td>125</td>\n      <td>0</td>\n      <td>0</td>\n      <td>false</td>\n      <td>false</td>\n      <td>false</td>\n      <td>...</td>\n      <td>90</td>\n      <td>59</td>\n      <td>110</td>\n      <td>true</td>\n      <td>171</td>\n      <td>-252</td>\n      <td>-175</td>\n      <td>966</td>\n      <td>8067</td>\n      <td>-768</td>\n    </tr>\n    <tr>\n      <th>1937</th>\n      <td>2021-02-09T12:01:52.3630413Z</td>\n      <td>123</td>\n      <td>130</td>\n      <td>129</td>\n      <td>125</td>\n      <td>0</td>\n      <td>0</td>\n      <td>false</td>\n      <td>false</td>\n      <td>false</td>\n      <td>...</td>\n      <td>90</td>\n      <td>60</td>\n      <td>110</td>\n      <td>true</td>\n      <td>167</td>\n      <td>-247</td>\n      <td>-188</td>\n      <td>979</td>\n      <td>8077</td>\n      <td>-768</td>\n    </tr>\n    <tr>\n      <th>1938</th>\n      <td>2021-02-09T12:01:52.3670892Z</td>\n      <td>123</td>\n      <td>130</td>\n      <td>135</td>\n      <td>126</td>\n      <td>0</td>\n      <td>0</td>\n      <td>false</td>\n      <td>false</td>\n      <td>false</td>\n      <td>...</td>\n      <td>90</td>\n      <td>61</td>\n      <td>110</td>\n      <td>true</td>\n      <td>164</td>\n      <td>-244</td>\n      <td>-215</td>\n      <td>980</td>\n      <td>8041</td>\n      <td>-768</td>\n    </tr>\n    <tr>\n      <th>1939</th>\n      <td>2021-02-09T12:01:52.3710888Z</td>\n      <td>123</td>\n      <td>130</td>\n      <td>130</td>\n      <td>125</td>\n      <td>0</td>\n      <td>0</td>\n      <td>false</td>\n      <td>false</td>\n      <td>false</td>\n      <td>...</td>\n      <td>90</td>\n      <td>62</td>\n      <td>110</td>\n      <td>true</td>\n      <td>162</td>\n      <td>-242</td>\n      <td>-221</td>\n      <td>934</td>\n      <td>8015</td>\n      <td>-768</td>\n    </tr>\n    <tr>\n      <th>1940</th>\n      <td>2021-02-09T12:01:52.3751067Z</td>\n      <td>123</td>\n      <td>130</td>\n      <td>130</td>\n      <td>125</td>\n      <td>0</td>\n      <td>0</td>\n      <td>false</td>\n      <td>false</td>\n      <td>false</td>\n      <td>...</td>\n      <td>90</td>\n      <td>63</td>\n      <td>110</td>\n      <td>true</td>\n      <td>160</td>\n      <td>16</td>\n      <td>-222</td>\n      <td>890</td>\n      <td>7986</td>\n      <td>-768</td>\n    </tr>\n  </tbody>\n</table>\n<p>30 rows × 33 columns</p>\n</div>"
     },
     "metadata": {},
     "execution_count": 31
    }
   ],
   "source": [
    "df.loc[df.DPad_Left == \"true\"]"
   ]
  }
 ]
}